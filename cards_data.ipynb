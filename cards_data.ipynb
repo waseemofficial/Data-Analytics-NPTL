{
 "cells": [
  {
   "cell_type": "code",
   "execution_count": 6,
   "id": "c1c4c27c-36fc-4a0e-b499-df4b75fd4240",
   "metadata": {},
   "outputs": [],
   "source": [
    "import pandas as pd\n",
    "import seaborn as sns\n",
    "import matplotlib.pyplot as plt"
   ]
  },
  {
   "cell_type": "code",
   "execution_count": 7,
   "id": "d4951d2f-5b03-4cbd-b9e1-533e592e60a4",
   "metadata": {},
   "outputs": [],
   "source": [
    "cards_data = pd.read_excel(\"data rough/share abc.xlsx\",sheet_name=None,dtype={\"Card\":\"object\"})"
   ]
  },
  {
   "cell_type": "code",
   "execution_count": 8,
   "id": "745aef46-bc89-415d-913d-89d6eb671bf0",
   "metadata": {},
   "outputs": [
    {
     "data": {
      "text/plain": [
       "dict_keys(['Day1', 'Day2', 'Illustration'])"
      ]
     },
     "execution_count": 8,
     "metadata": {},
     "output_type": "execute_result"
    }
   ],
   "source": [
    "cards_data.keys()"
   ]
  },
  {
   "cell_type": "code",
   "execution_count": 9,
   "id": "3efe18c6-3be9-44ee-b851-2f779abd22b7",
   "metadata": {},
   "outputs": [],
   "source": [
    "day1= cards_data[\"Day1\"]\n",
    "day2 =cards_data[\"Day2\"]"
   ]
  },
  {
   "cell_type": "code",
   "execution_count": 10,
   "id": "820ac218-7296-478c-a0bb-e54d4821f4bd",
   "metadata": {},
   "outputs": [
    {
     "name": "stdout",
     "output_type": "stream",
     "text": [
      "<class 'pandas.core.frame.DataFrame'>\n",
      "RangeIndex: 796 entries, 0 to 795\n",
      "Data columns (total 5 columns):\n",
      " #   Column         Non-Null Count  Dtype  \n",
      "---  ------         --------------  -----  \n",
      " 0   Unnamed: 0     0 non-null      float64\n",
      " 1   S.No           796 non-null    int64  \n",
      " 2   Card           786 non-null    object \n",
      " 3   Suits          786 non-null    object \n",
      " 4   Card Category  796 non-null    object \n",
      "dtypes: float64(1), int64(1), object(3)\n",
      "memory usage: 31.2+ KB\n"
     ]
    }
   ],
   "source": [
    "day1.info()"
   ]
  },
  {
   "cell_type": "code",
   "execution_count": 11,
   "id": "2e25f405-97de-4936-8be8-88fbf1af3365",
   "metadata": {},
   "outputs": [
    {
     "data": {
      "text/html": [
       "<div>\n",
       "<style scoped>\n",
       "    .dataframe tbody tr th:only-of-type {\n",
       "        vertical-align: middle;\n",
       "    }\n",
       "\n",
       "    .dataframe tbody tr th {\n",
       "        vertical-align: top;\n",
       "    }\n",
       "\n",
       "    .dataframe thead th {\n",
       "        text-align: right;\n",
       "    }\n",
       "</style>\n",
       "<table border=\"1\" class=\"dataframe\">\n",
       "  <thead>\n",
       "    <tr style=\"text-align: right;\">\n",
       "      <th></th>\n",
       "      <th>Unnamed: 0</th>\n",
       "      <th>S.No</th>\n",
       "      <th>Card</th>\n",
       "      <th>Suits</th>\n",
       "      <th>Card Category</th>\n",
       "    </tr>\n",
       "  </thead>\n",
       "  <tbody>\n",
       "    <tr>\n",
       "      <th>0</th>\n",
       "      <td>NaN</td>\n",
       "      <td>1</td>\n",
       "      <td>12</td>\n",
       "      <td>i</td>\n",
       "      <td>C</td>\n",
       "    </tr>\n",
       "    <tr>\n",
       "      <th>1</th>\n",
       "      <td>NaN</td>\n",
       "      <td>1</td>\n",
       "      <td>2</td>\n",
       "      <td>d</td>\n",
       "      <td>A</td>\n",
       "    </tr>\n",
       "    <tr>\n",
       "      <th>2</th>\n",
       "      <td>NaN</td>\n",
       "      <td>1</td>\n",
       "      <td>11</td>\n",
       "      <td>d</td>\n",
       "      <td>C</td>\n",
       "    </tr>\n",
       "    <tr>\n",
       "      <th>3</th>\n",
       "      <td>NaN</td>\n",
       "      <td>1</td>\n",
       "      <td>10</td>\n",
       "      <td>d</td>\n",
       "      <td>B</td>\n",
       "    </tr>\n",
       "    <tr>\n",
       "      <th>4</th>\n",
       "      <td>NaN</td>\n",
       "      <td>1</td>\n",
       "      <td>12</td>\n",
       "      <td>c</td>\n",
       "      <td>C</td>\n",
       "    </tr>\n",
       "  </tbody>\n",
       "</table>\n",
       "</div>"
      ],
      "text/plain": [
       "   Unnamed: 0  S.No Card Suits Card Category\n",
       "0         NaN     1   12     i             C\n",
       "1         NaN     1    2     d             A\n",
       "2         NaN     1   11     d             C\n",
       "3         NaN     1   10     d             B\n",
       "4         NaN     1   12     c             C"
      ]
     },
     "execution_count": 11,
     "metadata": {},
     "output_type": "execute_result"
    }
   ],
   "source": [
    "day1.head()"
   ]
  },
  {
   "cell_type": "code",
   "execution_count": 12,
   "id": "150c9b0f-beea-44b0-9c57-db91c11e24e9",
   "metadata": {},
   "outputs": [
    {
     "data": {
      "text/plain": [
       "Index(['Unnamed: 0', 'S.No', 'Card', 'Suits', 'Card Category'], dtype='object')"
      ]
     },
     "execution_count": 12,
     "metadata": {},
     "output_type": "execute_result"
    }
   ],
   "source": [
    "day1.columns"
   ]
  },
  {
   "cell_type": "code",
   "execution_count": 13,
   "id": "70e719fe-7294-41ce-806b-c2173212dd36",
   "metadata": {},
   "outputs": [],
   "source": [
    "day1.drop(\"Unnamed: 0\",axis=1, inplace =True);"
   ]
  },
  {
   "cell_type": "code",
   "execution_count": 14,
   "id": "561332a4-eb27-46b8-a1a6-d70cc2a13cd9",
   "metadata": {},
   "outputs": [
    {
     "name": "stdout",
     "output_type": "stream",
     "text": [
      "<class 'pandas.core.frame.DataFrame'>\n",
      "RangeIndex: 796 entries, 0 to 795\n",
      "Data columns (total 4 columns):\n",
      " #   Column         Non-Null Count  Dtype \n",
      "---  ------         --------------  ----- \n",
      " 0   S.No           796 non-null    int64 \n",
      " 1   Card           786 non-null    object\n",
      " 2   Suits          786 non-null    object\n",
      " 3   Card Category  796 non-null    object\n",
      "dtypes: int64(1), object(3)\n",
      "memory usage: 25.0+ KB\n"
     ]
    }
   ],
   "source": [
    "day1.info()"
   ]
  },
  {
   "cell_type": "code",
   "execution_count": 15,
   "id": "37aa60d2-6189-4a66-8411-9d1cdf047ccd",
   "metadata": {},
   "outputs": [],
   "source": [
    "day1[\"card1\"] = day1[\"Card\"].replace([1,11,12,13],[\"ace\",\"jak\",\"queen\",\"king\"])"
   ]
  },
  {
   "cell_type": "code",
   "execution_count": 16,
   "id": "13c4dc7c-e0c9-4331-98ff-f2b6be0e05bd",
   "metadata": {},
   "outputs": [
    {
     "data": {
      "text/plain": [
       "0      queen\n",
       "1          2\n",
       "2        jak\n",
       "3         10\n",
       "4      queen\n",
       "       ...  \n",
       "791    queen\n",
       "792      jak\n",
       "793        3\n",
       "794        7\n",
       "795        7\n",
       "Name: card1, Length: 796, dtype: object"
      ]
     },
     "execution_count": 16,
     "metadata": {},
     "output_type": "execute_result"
    }
   ],
   "source": [
    "day1[\"card1\"]"
   ]
  },
  {
   "cell_type": "code",
   "execution_count": 17,
   "id": "91cf2eb9-251e-4c61-8de5-b9012c546d55",
   "metadata": {},
   "outputs": [],
   "source": [
    "day1[\"Suits\"].replace([\"d\",\"i\",\"c\",\"h\"],[\"Hearts\",\"Diamonds\",\"Clubs\",\"Spades\"],inplace=True)"
   ]
  },
  {
   "cell_type": "code",
   "execution_count": 18,
   "id": "75908785-83b1-4ea2-ad0a-890a7139190f",
   "metadata": {},
   "outputs": [
    {
     "name": "stdout",
     "output_type": "stream",
     "text": [
      "<class 'pandas.core.frame.DataFrame'>\n",
      "RangeIndex: 796 entries, 0 to 795\n",
      "Data columns (total 5 columns):\n",
      " #   Column         Non-Null Count  Dtype \n",
      "---  ------         --------------  ----- \n",
      " 0   S.No           796 non-null    int64 \n",
      " 1   Card           786 non-null    object\n",
      " 2   Suits          786 non-null    object\n",
      " 3   Card Category  796 non-null    object\n",
      " 4   card1          786 non-null    object\n",
      "dtypes: int64(1), object(4)\n",
      "memory usage: 31.2+ KB\n"
     ]
    }
   ],
   "source": [
    "day1.info()"
   ]
  },
  {
   "cell_type": "code",
   "execution_count": 19,
   "id": "42cee019-b365-48d5-a762-953c6fee9356",
   "metadata": {},
   "outputs": [
    {
     "name": "stdout",
     "output_type": "stream",
     "text": [
      "<class 'pandas.core.frame.DataFrame'>\n",
      "RangeIndex: 796 entries, 0 to 795\n",
      "Data columns (total 5 columns):\n",
      " #   Column         Non-Null Count  Dtype \n",
      "---  ------         --------------  ----- \n",
      " 0   S.No           796 non-null    int64 \n",
      " 1   Card           786 non-null    object\n",
      " 2   Suits          786 non-null    object\n",
      " 3   Card Category  796 non-null    object\n",
      " 4   card1          786 non-null    object\n",
      "dtypes: int64(1), object(4)\n",
      "memory usage: 31.2+ KB\n"
     ]
    }
   ],
   "source": [
    "day1.info()"
   ]
  },
  {
   "cell_type": "code",
   "execution_count": 20,
   "id": "8231a95b-907a-4ae2-a736-332703e0cde4",
   "metadata": {},
   "outputs": [],
   "source": [
    "day1[\"Card\"] = day1.Card.astype(\"object\")"
   ]
  },
  {
   "cell_type": "code",
   "execution_count": 21,
   "id": "29837636-9f20-4065-ae73-edd26b026614",
   "metadata": {},
   "outputs": [
    {
     "name": "stdout",
     "output_type": "stream",
     "text": [
      "<class 'pandas.core.frame.DataFrame'>\n",
      "RangeIndex: 796 entries, 0 to 795\n",
      "Data columns (total 5 columns):\n",
      " #   Column         Non-Null Count  Dtype \n",
      "---  ------         --------------  ----- \n",
      " 0   S.No           796 non-null    int64 \n",
      " 1   Card           786 non-null    object\n",
      " 2   Suits          786 non-null    object\n",
      " 3   Card Category  796 non-null    object\n",
      " 4   card1          786 non-null    object\n",
      "dtypes: int64(1), object(4)\n",
      "memory usage: 31.2+ KB\n"
     ]
    }
   ],
   "source": [
    "day1.info()"
   ]
  },
  {
   "cell_type": "code",
   "execution_count": 22,
   "id": "cd75560a-2275-4d04-af10-3d887a224d32",
   "metadata": {},
   "outputs": [],
   "source": [
    "day1_ind = day1.set_index([\"S.No\",\"Suits\",\"card1\"])"
   ]
  },
  {
   "cell_type": "code",
   "execution_count": 23,
   "id": "7a5e9c39-425f-41dd-934d-75b6812571e0",
   "metadata": {},
   "outputs": [
    {
     "data": {
      "text/plain": [
       "Index(['Card', 'Card Category'], dtype='object')"
      ]
     },
     "execution_count": 23,
     "metadata": {},
     "output_type": "execute_result"
    }
   ],
   "source": [
    "day1_ind.columns"
   ]
  },
  {
   "cell_type": "code",
   "execution_count": 24,
   "id": "f8ebf78a-7fc3-46d0-b6b4-5b43a0549420",
   "metadata": {},
   "outputs": [
    {
     "name": "stderr",
     "output_type": "stream",
     "text": [
      "C:\\Users\\ACER\\AppData\\Local\\Temp\\ipykernel_12796\\4243505495.py:1: FutureWarning: Using the level keyword in DataFrame and Series aggregations is deprecated and will be removed in a future version. Use groupby instead. df.sum(level=1) should use df.groupby(level=1).sum().\n",
      "  day1_ind.sum(level=2).Card\n"
     ]
    },
    {
     "data": {
      "text/plain": [
       "card1\n",
       "queen    708\n",
       "2        112\n",
       "jak      638\n",
       "10       640\n",
       "4        228\n",
       "6        390\n",
       "9        522\n",
       "ace       65\n",
       "8        504\n",
       "3        171\n",
       "5        310\n",
       "7        490\n",
       "king     676\n",
       "Name: Card, dtype: int64"
      ]
     },
     "execution_count": 24,
     "metadata": {},
     "output_type": "execute_result"
    }
   ],
   "source": [
    "day1_ind.sum(level=2).Card"
   ]
  },
  {
   "cell_type": "code",
   "execution_count": 28,
   "id": "5b501ae2-fba0-4864-8e55-a6ec94c7d651",
   "metadata": {},
   "outputs": [
    {
     "data": {
      "text/plain": [
       "<AxesSubplot: xlabel='Card', ylabel='Card Category'>"
      ]
     },
     "execution_count": 28,
     "metadata": {},
     "output_type": "execute_result"
    },
    {
     "data": {
      "image/png": "[encoded data removed]",
      "text/plain": [
       "<Figure size 640x480 with 1 Axes>"
      ]
     },
     "metadata": {},
     "output_type": "display_data"
    }
   ],
   "source": [
    "sns.boxplot(y=\"Card Category\",x=\"Card\",data=day1_ind)\n",
    "#plt.savefig(\"data rough/box.png\")"
   ]
  },
  {
   "cell_type": "code",
   "execution_count": 30,
   "id": "2a48192d-a869-48e2-90f1-24ad45cd365a",
   "metadata": {},
   "outputs": [
    {
     "name": "stderr",
     "output_type": "stream",
     "text": [
      "C:\\Users\\ACER\\AppData\\Local\\Temp\\ipykernel_12796\\1477430241.py:1: UserWarning: \n",
      "\n",
      "`distplot` is a deprecated function and will be removed in seaborn v0.14.0.\n",
      "\n",
      "Please adapt your code to use either `displot` (a figure-level function with\n",
      "similar flexibility) or `histplot` (an axes-level function for histograms).\n",
      "\n",
      "For a guide to updating your code to use the new functions, please see\n",
      "https://gist.github.com/mwaskom/de44147ed2974457ad6372750bbe5751\n",
      "\n",
      "  sns.distplot(day1_ind['Card'])\n"
     ]
    },
    {
     "data": {
      "text/plain": [
       "<AxesSubplot: xlabel='Card', ylabel='Density'>"
      ]
     },
     "execution_count": 30,
     "metadata": {},
     "output_type": "execute_result"
    },
    {
     "data": {
      "image/png": "[encoded data removed]",
      "text/plain": [
       "<Figure size 640x480 with 1 Axes>"
      ]
     },
     "metadata": {},
     "output_type": "display_data"
    }
   ],
   "source": [
    "sns.distplot(day1_ind['Card'])\n",
    "#plt.savefig('data rough/density.png')\n"
   ]
  },
  {
   "cell_type": "code",
   "execution_count": 32,
   "id": "619370a0",
   "metadata": {},
   "outputs": [
    {
     "data": {
      "text/html": [
       "<div>\n",
       "<style scoped>\n",
       "    .dataframe tbody tr th:only-of-type {\n",
       "        vertical-align: middle;\n",
       "    }\n",
       "\n",
       "    .dataframe tbody tr th {\n",
       "        vertical-align: top;\n",
       "    }\n",
       "\n",
       "    .dataframe thead th {\n",
       "        text-align: right;\n",
       "    }\n",
       "</style>\n",
       "<table border=\"1\" class=\"dataframe\">\n",
       "  <thead>\n",
       "    <tr style=\"text-align: right;\">\n",
       "      <th></th>\n",
       "      <th></th>\n",
       "      <th></th>\n",
       "      <th>Card</th>\n",
       "      <th>Card Category</th>\n",
       "    </tr>\n",
       "    <tr>\n",
       "      <th>S.No</th>\n",
       "      <th>Suits</th>\n",
       "      <th>card1</th>\n",
       "      <th></th>\n",
       "      <th></th>\n",
       "    </tr>\n",
       "  </thead>\n",
       "  <tbody>\n",
       "    <tr>\n",
       "      <th rowspan=\"20\" valign=\"top\">1</th>\n",
       "      <th>Diamonds</th>\n",
       "      <th>queen</th>\n",
       "      <td>12</td>\n",
       "      <td>C</td>\n",
       "    </tr>\n",
       "    <tr>\n",
       "      <th rowspan=\"3\" valign=\"top\">Hearts</th>\n",
       "      <th>2</th>\n",
       "      <td>2</td>\n",
       "      <td>A</td>\n",
       "    </tr>\n",
       "    <tr>\n",
       "      <th>jak</th>\n",
       "      <td>11</td>\n",
       "      <td>C</td>\n",
       "    </tr>\n",
       "    <tr>\n",
       "      <th>10</th>\n",
       "      <td>10</td>\n",
       "      <td>B</td>\n",
       "    </tr>\n",
       "    <tr>\n",
       "      <th>Clubs</th>\n",
       "      <th>queen</th>\n",
       "      <td>12</td>\n",
       "      <td>C</td>\n",
       "    </tr>\n",
       "    <tr>\n",
       "      <th>Diamonds</th>\n",
       "      <th>4</th>\n",
       "      <td>4</td>\n",
       "      <td>A</td>\n",
       "    </tr>\n",
       "    <tr>\n",
       "      <th>Spades</th>\n",
       "      <th>4</th>\n",
       "      <td>4</td>\n",
       "      <td>A</td>\n",
       "    </tr>\n",
       "    <tr>\n",
       "      <th>Clubs</th>\n",
       "      <th>10</th>\n",
       "      <td>10</td>\n",
       "      <td>B</td>\n",
       "    </tr>\n",
       "    <tr>\n",
       "      <th>Spades</th>\n",
       "      <th>jak</th>\n",
       "      <td>11</td>\n",
       "      <td>C</td>\n",
       "    </tr>\n",
       "    <tr>\n",
       "      <th>Hearts</th>\n",
       "      <th>6</th>\n",
       "      <td>6</td>\n",
       "      <td>A</td>\n",
       "    </tr>\n",
       "    <tr>\n",
       "      <th rowspan=\"2\" valign=\"top\">Spades</th>\n",
       "      <th>6</th>\n",
       "      <td>6</td>\n",
       "      <td>A</td>\n",
       "    </tr>\n",
       "    <tr>\n",
       "      <th>9</th>\n",
       "      <td>9</td>\n",
       "      <td>B</td>\n",
       "    </tr>\n",
       "    <tr>\n",
       "      <th>Clubs</th>\n",
       "      <th>ace</th>\n",
       "      <td>1</td>\n",
       "      <td>A</td>\n",
       "    </tr>\n",
       "    <tr>\n",
       "      <th>Diamonds</th>\n",
       "      <th>8</th>\n",
       "      <td>8</td>\n",
       "      <td>B</td>\n",
       "    </tr>\n",
       "    <tr>\n",
       "      <th>Hearts</th>\n",
       "      <th>jak</th>\n",
       "      <td>11</td>\n",
       "      <td>C</td>\n",
       "    </tr>\n",
       "    <tr>\n",
       "      <th>Spades</th>\n",
       "      <th>ace</th>\n",
       "      <td>1</td>\n",
       "      <td>A</td>\n",
       "    </tr>\n",
       "    <tr>\n",
       "      <th>Diamonds</th>\n",
       "      <th>2</th>\n",
       "      <td>2</td>\n",
       "      <td>A</td>\n",
       "    </tr>\n",
       "    <tr>\n",
       "      <th rowspan=\"2\" valign=\"top\">Spades</th>\n",
       "      <th>10</th>\n",
       "      <td>10</td>\n",
       "      <td>B</td>\n",
       "    </tr>\n",
       "    <tr>\n",
       "      <th>3</th>\n",
       "      <td>3</td>\n",
       "      <td>A</td>\n",
       "    </tr>\n",
       "    <tr>\n",
       "      <th>Clubs</th>\n",
       "      <th>4</th>\n",
       "      <td>4</td>\n",
       "      <td>A</td>\n",
       "    </tr>\n",
       "  </tbody>\n",
       "</table>\n",
       "</div>"
      ],
      "text/plain": [
       "                    Card Card Category\n",
       "S.No Suits    card1                   \n",
       "1    Diamonds queen   12             C\n",
       "     Hearts   2        2             A\n",
       "              jak     11             C\n",
       "              10      10             B\n",
       "     Clubs    queen   12             C\n",
       "     Diamonds 4        4             A\n",
       "     Spades   4        4             A\n",
       "     Clubs    10      10             B\n",
       "     Spades   jak     11             C\n",
       "     Hearts   6        6             A\n",
       "     Spades   6        6             A\n",
       "              9        9             B\n",
       "     Clubs    ace      1             A\n",
       "     Diamonds 8        8             B\n",
       "     Hearts   jak     11             C\n",
       "     Spades   ace      1             A\n",
       "     Diamonds 2        2             A\n",
       "     Spades   10      10             B\n",
       "              3        3             A\n",
       "     Clubs    4        4             A"
      ]
     },
     "execution_count": 32,
     "metadata": {},
     "output_type": "execute_result"
    }
   ],
   "source": [
    "day1_ind.head(20)"
   ]
  },
  {
   "cell_type": "code",
   "execution_count": 27,
   "id": "a99e98cd-edb8-489a-acec-3dcba1fbc95a",
   "metadata": {},
   "outputs": [
    {
     "ename": "ValueError",
     "evalue": "could not convert string to float: 'C'",
     "output_type": "error",
     "traceback": [
      "\u001b[1;31m---------------------------------------------------------------------------\u001b[0m",
      "\u001b[1;31mValueError\u001b[0m                                Traceback (most recent call last)",
      "Cell \u001b[1;32mIn[27], line 1\u001b[0m\n\u001b[1;32m----> 1\u001b[0m \u001b[43msns\u001b[49m\u001b[38;5;241;43m.\u001b[39;49m\u001b[43mlmplot\u001b[49m\u001b[43m(\u001b[49m\u001b[43my\u001b[49m\u001b[38;5;241;43m=\u001b[39;49m\u001b[38;5;124;43m\"\u001b[39;49m\u001b[38;5;124;43mCard Category\u001b[39;49m\u001b[38;5;124;43m\"\u001b[39;49m\u001b[43m,\u001b[49m\u001b[43mx\u001b[49m\u001b[38;5;241;43m=\u001b[39;49m\u001b[38;5;124;43m\"\u001b[39;49m\u001b[38;5;124;43mCard\u001b[39;49m\u001b[38;5;124;43m\"\u001b[39;49m\u001b[43m,\u001b[49m\u001b[43mdata\u001b[49m\u001b[38;5;241;43m=\u001b[39;49m\u001b[43mday1_ind\u001b[49m\u001b[43m)\u001b[49m\n",
      "File \u001b[1;32mc:\\Users\\ACER\\anaconda3\\Lib\\site-packages\\seaborn\\regression.py:624\u001b[0m, in \u001b[0;36mlmplot\u001b[1;34m(data, x, y, hue, col, row, palette, col_wrap, height, aspect, markers, sharex, sharey, hue_order, col_order, row_order, legend, legend_out, x_estimator, x_bins, x_ci, scatter, fit_reg, ci, n_boot, units, seed, order, logistic, lowess, robust, logx, x_partial, y_partial, truncate, x_jitter, y_jitter, scatter_kws, line_kws, facet_kws)\u001b[0m\n\u001b[0;32m    621\u001b[0m     ax\u001b[38;5;241m.\u001b[39mupdate_datalim(xys, updatey\u001b[38;5;241m=\u001b[39m\u001b[38;5;28;01mFalse\u001b[39;00m)\n\u001b[0;32m    622\u001b[0m     ax\u001b[38;5;241m.\u001b[39mautoscale_view(scaley\u001b[38;5;241m=\u001b[39m\u001b[38;5;28;01mFalse\u001b[39;00m)\n\u001b[1;32m--> 624\u001b[0m \u001b[43mfacets\u001b[49m\u001b[38;5;241;43m.\u001b[39;49m\u001b[43mmap_dataframe\u001b[49m\u001b[43m(\u001b[49m\u001b[43mupdate_datalim\u001b[49m\u001b[43m,\u001b[49m\u001b[43m \u001b[49m\u001b[43mx\u001b[49m\u001b[38;5;241;43m=\u001b[39;49m\u001b[43mx\u001b[49m\u001b[43m,\u001b[49m\u001b[43m \u001b[49m\u001b[43my\u001b[49m\u001b[38;5;241;43m=\u001b[39;49m\u001b[43my\u001b[49m\u001b[43m)\u001b[49m\n\u001b[0;32m    626\u001b[0m \u001b[38;5;66;03m# Draw the regression plot on each facet\u001b[39;00m\n\u001b[0;32m    627\u001b[0m regplot_kws \u001b[38;5;241m=\u001b[39m \u001b[38;5;28mdict\u001b[39m(\n\u001b[0;32m    628\u001b[0m     x_estimator\u001b[38;5;241m=\u001b[39mx_estimator, x_bins\u001b[38;5;241m=\u001b[39mx_bins, x_ci\u001b[38;5;241m=\u001b[39mx_ci,\n\u001b[0;32m    629\u001b[0m     scatter\u001b[38;5;241m=\u001b[39mscatter, fit_reg\u001b[38;5;241m=\u001b[39mfit_reg, ci\u001b[38;5;241m=\u001b[39mci, n_boot\u001b[38;5;241m=\u001b[39mn_boot, units\u001b[38;5;241m=\u001b[39munits,\n\u001b[1;32m   (...)\u001b[0m\n\u001b[0;32m    633\u001b[0m     scatter_kws\u001b[38;5;241m=\u001b[39mscatter_kws, line_kws\u001b[38;5;241m=\u001b[39mline_kws,\n\u001b[0;32m    634\u001b[0m )\n",
      "File \u001b[1;32mc:\\Users\\ACER\\anaconda3\\Lib\\site-packages\\seaborn\\axisgrid.py:819\u001b[0m, in \u001b[0;36mFacetGrid.map_dataframe\u001b[1;34m(self, func, *args, **kwargs)\u001b[0m\n\u001b[0;32m    816\u001b[0m     kwargs[\u001b[38;5;124m\"\u001b[39m\u001b[38;5;124mdata\u001b[39m\u001b[38;5;124m\"\u001b[39m] \u001b[38;5;241m=\u001b[39m data_ijk\n\u001b[0;32m    818\u001b[0m     \u001b[38;5;66;03m# Draw the plot\u001b[39;00m\n\u001b[1;32m--> 819\u001b[0m     \u001b[38;5;28;43mself\u001b[39;49m\u001b[38;5;241;43m.\u001b[39;49m\u001b[43m_facet_plot\u001b[49m\u001b[43m(\u001b[49m\u001b[43mfunc\u001b[49m\u001b[43m,\u001b[49m\u001b[43m \u001b[49m\u001b[43max\u001b[49m\u001b[43m,\u001b[49m\u001b[43m \u001b[49m\u001b[43margs\u001b[49m\u001b[43m,\u001b[49m\u001b[43m \u001b[49m\u001b[43mkwargs\u001b[49m\u001b[43m)\u001b[49m\n\u001b[0;32m    821\u001b[0m \u001b[38;5;66;03m# For axis labels, prefer to use positional args for backcompat\u001b[39;00m\n\u001b[0;32m    822\u001b[0m \u001b[38;5;66;03m# but also extract the x/y kwargs and use if no corresponding arg\u001b[39;00m\n\u001b[0;32m    823\u001b[0m axis_labels \u001b[38;5;241m=\u001b[39m [kwargs\u001b[38;5;241m.\u001b[39mget(\u001b[38;5;124m\"\u001b[39m\u001b[38;5;124mx\u001b[39m\u001b[38;5;124m\"\u001b[39m, \u001b[38;5;28;01mNone\u001b[39;00m), kwargs\u001b[38;5;241m.\u001b[39mget(\u001b[38;5;124m\"\u001b[39m\u001b[38;5;124my\u001b[39m\u001b[38;5;124m\"\u001b[39m, \u001b[38;5;28;01mNone\u001b[39;00m)]\n",
      "File \u001b[1;32mc:\\Users\\ACER\\anaconda3\\Lib\\site-packages\\seaborn\\axisgrid.py:848\u001b[0m, in \u001b[0;36mFacetGrid._facet_plot\u001b[1;34m(self, func, ax, plot_args, plot_kwargs)\u001b[0m\n\u001b[0;32m    846\u001b[0m     plot_args \u001b[38;5;241m=\u001b[39m []\n\u001b[0;32m    847\u001b[0m     plot_kwargs[\u001b[38;5;124m\"\u001b[39m\u001b[38;5;124max\u001b[39m\u001b[38;5;124m\"\u001b[39m] \u001b[38;5;241m=\u001b[39m ax\n\u001b[1;32m--> 848\u001b[0m \u001b[43mfunc\u001b[49m\u001b[43m(\u001b[49m\u001b[38;5;241;43m*\u001b[39;49m\u001b[43mplot_args\u001b[49m\u001b[43m,\u001b[49m\u001b[43m \u001b[49m\u001b[38;5;241;43m*\u001b[39;49m\u001b[38;5;241;43m*\u001b[39;49m\u001b[43mplot_kwargs\u001b[49m\u001b[43m)\u001b[49m\n\u001b[0;32m    850\u001b[0m \u001b[38;5;66;03m# Sort out the supporting information\u001b[39;00m\n\u001b[0;32m    851\u001b[0m \u001b[38;5;28mself\u001b[39m\u001b[38;5;241m.\u001b[39m_update_legend_data(ax)\n",
      "File \u001b[1;32mc:\\Users\\ACER\\anaconda3\\Lib\\site-packages\\seaborn\\regression.py:620\u001b[0m, in \u001b[0;36mlmplot.<locals>.update_datalim\u001b[1;34m(data, x, y, ax, **kws)\u001b[0m\n\u001b[0;32m    619\u001b[0m \u001b[38;5;28;01mdef\u001b[39;00m \u001b[38;5;21mupdate_datalim\u001b[39m(data, x, y, ax, \u001b[38;5;241m*\u001b[39m\u001b[38;5;241m*\u001b[39mkws):\n\u001b[1;32m--> 620\u001b[0m     xys \u001b[38;5;241m=\u001b[39m \u001b[43mdata\u001b[49m\u001b[43m[\u001b[49m\u001b[43m[\u001b[49m\u001b[43mx\u001b[49m\u001b[43m,\u001b[49m\u001b[43m \u001b[49m\u001b[43my\u001b[49m\u001b[43m]\u001b[49m\u001b[43m]\u001b[49m\u001b[38;5;241;43m.\u001b[39;49m\u001b[43mto_numpy\u001b[49m\u001b[43m(\u001b[49m\u001b[43m)\u001b[49m\u001b[38;5;241;43m.\u001b[39;49m\u001b[43mastype\u001b[49m\u001b[43m(\u001b[49m\u001b[38;5;28;43mfloat\u001b[39;49m\u001b[43m)\u001b[49m\n\u001b[0;32m    621\u001b[0m     ax\u001b[38;5;241m.\u001b[39mupdate_datalim(xys, updatey\u001b[38;5;241m=\u001b[39m\u001b[38;5;28;01mFalse\u001b[39;00m)\n\u001b[0;32m    622\u001b[0m     ax\u001b[38;5;241m.\u001b[39mautoscale_view(scaley\u001b[38;5;241m=\u001b[39m\u001b[38;5;28;01mFalse\u001b[39;00m)\n",
      "\u001b[1;31mValueError\u001b[0m: could not convert string to float: 'C'"
     ]
    },
    {
     "data": {
      "image/png": "[encoded data removed]",
      "text/plain": [
       "<Figure size 500x500 with 1 Axes>"
      ]
     },
     "metadata": {},
     "output_type": "display_data"
    }
   ],
   "source": [
    "sns.lmplot(y=\"Card Category\",x=\"Card\",data=day1_ind)"
   ]
  },
  {
   "cell_type": "code",
   "execution_count": 33,
   "id": "ec9ced2d-493d-4767-beeb-fa2c713ddeaa",
   "metadata": {},
   "outputs": [],
   "source": [
    "total_cards_delth =day1_ind[\"Card\"].sum()"
   ]
  },
  {
   "cell_type": "markdown",
   "id": "3be2e3d1-3a81-44c7-b88b-44088f89e1c7",
   "metadata": {},
   "source": [
    "Percentage Calculation :"
   ]
  },
  {
   "cell_type": "code",
   "execution_count": 34,
   "id": "7c96d639-12ad-4156-8af2-1aa6aba1615b",
   "metadata": {},
   "outputs": [],
   "source": [
    "day1_ind[\"perc\"] = (day1_ind[\"Card\"]/total_cards_delth)*100"
   ]
  },
  {
   "cell_type": "code",
   "execution_count": 35,
   "id": "54f26ec9-550c-4a2d-9e60-9bc51e02f0da",
   "metadata": {},
   "outputs": [
    {
     "name": "stderr",
     "output_type": "stream",
     "text": [
      "C:\\Users\\ACER\\AppData\\Local\\Temp\\ipykernel_12796\\3787744455.py:1: FutureWarning: Using the level keyword in DataFrame and Series aggregations is deprecated and will be removed in a future version. Use groupby instead. df.sum(level=1) should use df.groupby(level=1).sum().\n",
      "  day1_ind.sum(level=1).perc\n"
     ]
    },
    {
     "data": {
      "text/plain": [
       "Suits\n",
       "Diamonds    24.734140\n",
       "Hearts      22.955629\n",
       "Clubs       28.071140\n",
       "Spades      24.239091\n",
       "Name: perc, dtype: float64"
      ]
     },
     "execution_count": 35,
     "metadata": {},
     "output_type": "execute_result"
    }
   ],
   "source": [
    "day1_ind.sum(level=1).perc"
   ]
  },
  {
   "cell_type": "code",
   "execution_count": 38,
   "id": "8540d737",
   "metadata": {},
   "outputs": [
    {
     "data": {
      "text/html": [
       "<div>\n",
       "<style scoped>\n",
       "    .dataframe tbody tr th:only-of-type {\n",
       "        vertical-align: middle;\n",
       "    }\n",
       "\n",
       "    .dataframe tbody tr th {\n",
       "        vertical-align: top;\n",
       "    }\n",
       "\n",
       "    .dataframe thead th {\n",
       "        text-align: right;\n",
       "    }\n",
       "</style>\n",
       "<table border=\"1\" class=\"dataframe\">\n",
       "  <thead>\n",
       "    <tr style=\"text-align: right;\">\n",
       "      <th></th>\n",
       "      <th></th>\n",
       "      <th></th>\n",
       "      <th>Card</th>\n",
       "      <th>Card Category</th>\n",
       "      <th>perc</th>\n",
       "    </tr>\n",
       "    <tr>\n",
       "      <th>S.No</th>\n",
       "      <th>Suits</th>\n",
       "      <th>card1</th>\n",
       "      <th></th>\n",
       "      <th></th>\n",
       "      <th></th>\n",
       "    </tr>\n",
       "  </thead>\n",
       "  <tbody>\n",
       "    <tr>\n",
       "      <th rowspan=\"5\" valign=\"top\">1</th>\n",
       "      <th>Diamonds</th>\n",
       "      <th>queen</th>\n",
       "      <td>12</td>\n",
       "      <td>C</td>\n",
       "      <td>0.220022</td>\n",
       "    </tr>\n",
       "    <tr>\n",
       "      <th rowspan=\"3\" valign=\"top\">Hearts</th>\n",
       "      <th>2</th>\n",
       "      <td>2</td>\n",
       "      <td>A</td>\n",
       "      <td>0.03667</td>\n",
       "    </tr>\n",
       "    <tr>\n",
       "      <th>jak</th>\n",
       "      <td>11</td>\n",
       "      <td>C</td>\n",
       "      <td>0.201687</td>\n",
       "    </tr>\n",
       "    <tr>\n",
       "      <th>10</th>\n",
       "      <td>10</td>\n",
       "      <td>B</td>\n",
       "      <td>0.183352</td>\n",
       "    </tr>\n",
       "    <tr>\n",
       "      <th>Clubs</th>\n",
       "      <th>queen</th>\n",
       "      <td>12</td>\n",
       "      <td>C</td>\n",
       "      <td>0.220022</td>\n",
       "    </tr>\n",
       "  </tbody>\n",
       "</table>\n",
       "</div>"
      ],
      "text/plain": [
       "                    Card Card Category      perc\n",
       "S.No Suits    card1                             \n",
       "1    Diamonds queen   12             C  0.220022\n",
       "     Hearts   2        2             A   0.03667\n",
       "              jak     11             C  0.201687\n",
       "              10      10             B  0.183352\n",
       "     Clubs    queen   12             C  0.220022"
      ]
     },
     "execution_count": 38,
     "metadata": {},
     "output_type": "execute_result"
    }
   ],
   "source": [
    "day1_ind.head()"
   ]
  },
  {
   "cell_type": "code",
   "execution_count": 39,
   "id": "480ea254-05f0-44b7-9e01-c778cd321b57",
   "metadata": {},
   "outputs": [
    {
     "ename": "KeyError",
     "evalue": "'Column not found: card1'",
     "output_type": "error",
     "traceback": [
      "\u001b[1;31m---------------------------------------------------------------------------\u001b[0m",
      "\u001b[1;31mKeyError\u001b[0m                                  Traceback (most recent call last)",
      "Cell \u001b[1;32mIn[39], line 1\u001b[0m\n\u001b[1;32m----> 1\u001b[0m \u001b[43mday1_ind\u001b[49m\u001b[38;5;241;43m.\u001b[39;49m\u001b[43mgroupby\u001b[49m\u001b[43m(\u001b[49m\u001b[38;5;124;43m\"\u001b[39;49m\u001b[38;5;124;43mS.No\u001b[39;49m\u001b[38;5;124;43m\"\u001b[39;49m\u001b[43m)\u001b[49m\u001b[43m[\u001b[49m\u001b[38;5;124;43m\"\u001b[39;49m\u001b[38;5;124;43mcard1\u001b[39;49m\u001b[38;5;124;43m\"\u001b[39;49m\u001b[43m]\u001b[49m\u001b[38;5;241m.\u001b[39mvalue_counts()\n",
      "File \u001b[1;32mc:\\Users\\ACER\\anaconda3\\Lib\\site-packages\\pandas\\core\\groupby\\generic.py:1416\u001b[0m, in \u001b[0;36mDataFrameGroupBy.__getitem__\u001b[1;34m(self, key)\u001b[0m\n\u001b[0;32m   1407\u001b[0m \u001b[38;5;28;01mif\u001b[39;00m \u001b[38;5;28misinstance\u001b[39m(key, \u001b[38;5;28mtuple\u001b[39m) \u001b[38;5;129;01mand\u001b[39;00m \u001b[38;5;28mlen\u001b[39m(key) \u001b[38;5;241m>\u001b[39m \u001b[38;5;241m1\u001b[39m:\n\u001b[0;32m   1408\u001b[0m     \u001b[38;5;66;03m# if len == 1, then it becomes a SeriesGroupBy and this is actually\u001b[39;00m\n\u001b[0;32m   1409\u001b[0m     \u001b[38;5;66;03m# valid syntax, so don't raise warning\u001b[39;00m\n\u001b[0;32m   1410\u001b[0m     warnings\u001b[38;5;241m.\u001b[39mwarn(\n\u001b[0;32m   1411\u001b[0m         \u001b[38;5;124m\"\u001b[39m\u001b[38;5;124mIndexing with multiple keys (implicitly converted to a tuple \u001b[39m\u001b[38;5;124m\"\u001b[39m\n\u001b[0;32m   1412\u001b[0m         \u001b[38;5;124m\"\u001b[39m\u001b[38;5;124mof keys) will be deprecated, use a list instead.\u001b[39m\u001b[38;5;124m\"\u001b[39m,\n\u001b[0;32m   1413\u001b[0m         \u001b[38;5;167;01mFutureWarning\u001b[39;00m,\n\u001b[0;32m   1414\u001b[0m         stacklevel\u001b[38;5;241m=\u001b[39mfind_stack_level(),\n\u001b[0;32m   1415\u001b[0m     )\n\u001b[1;32m-> 1416\u001b[0m \u001b[38;5;28;01mreturn\u001b[39;00m \u001b[38;5;28;43msuper\u001b[39;49m\u001b[43m(\u001b[49m\u001b[43m)\u001b[49m\u001b[38;5;241;43m.\u001b[39;49m\u001b[38;5;21;43m__getitem__\u001b[39;49m\u001b[43m(\u001b[49m\u001b[43mkey\u001b[49m\u001b[43m)\u001b[49m\n",
      "File \u001b[1;32mc:\\Users\\ACER\\anaconda3\\Lib\\site-packages\\pandas\\core\\base.py:248\u001b[0m, in \u001b[0;36mSelectionMixin.__getitem__\u001b[1;34m(self, key)\u001b[0m\n\u001b[0;32m    246\u001b[0m \u001b[38;5;28;01melse\u001b[39;00m:\n\u001b[0;32m    247\u001b[0m     \u001b[38;5;28;01mif\u001b[39;00m key \u001b[38;5;129;01mnot\u001b[39;00m \u001b[38;5;129;01min\u001b[39;00m \u001b[38;5;28mself\u001b[39m\u001b[38;5;241m.\u001b[39mobj:\n\u001b[1;32m--> 248\u001b[0m         \u001b[38;5;28;01mraise\u001b[39;00m \u001b[38;5;167;01mKeyError\u001b[39;00m(\u001b[38;5;124mf\u001b[39m\u001b[38;5;124m\"\u001b[39m\u001b[38;5;124mColumn not found: \u001b[39m\u001b[38;5;132;01m{\u001b[39;00mkey\u001b[38;5;132;01m}\u001b[39;00m\u001b[38;5;124m\"\u001b[39m)\n\u001b[0;32m    249\u001b[0m     subset \u001b[38;5;241m=\u001b[39m \u001b[38;5;28mself\u001b[39m\u001b[38;5;241m.\u001b[39mobj[key]\n\u001b[0;32m    250\u001b[0m     ndim \u001b[38;5;241m=\u001b[39m subset\u001b[38;5;241m.\u001b[39mndim\n",
      "\u001b[1;31mKeyError\u001b[0m: 'Column not found: card1'"
     ]
    }
   ],
   "source": [
    "day1_ind.groupby(\"S.No\")[\"card1\"].value_counts()"
   ]
  },
  {
   "cell_type": "code",
   "execution_count": 40,
   "id": "826eafc6-a19d-42dc-8816-d4b465238738",
   "metadata": {},
   "outputs": [
    {
     "ename": "SyntaxError",
     "evalue": "invalid syntax (2798753163.py, line 3)",
     "output_type": "error",
     "traceback": [
      "\u001b[1;36m  Cell \u001b[1;32mIn[40], line 3\u001b[1;36m\u001b[0m\n\u001b[1;33m    p =\u001b[0m\n\u001b[1;37m        ^\u001b[0m\n\u001b[1;31mSyntaxError\u001b[0m\u001b[1;31m:\u001b[0m invalid syntax\n"
     ]
    }
   ],
   "source": [
    "percentage = []\n",
    "for car in day1_ind.sum(level=2).Card:\n",
    "    p = "
   ]
  }
 ],
 "metadata": {
  "kernelspec": {
   "display_name": "Python 3 (ipykernel)",
   "language": "python",
   "name": "python3"
  },
  "language_info": {
   "codemirror_mode": {
    "name": "ipython",
    "version": 3
   },
   "file_extension": ".py",
   "mimetype": "text/x-python",
   "name": "python",
   "nbconvert_exporter": "python",
   "pygments_lexer": "ipython3",
   "version": "3.11.5"
  }
 },
 "nbformat": 4,
 "nbformat_minor": 5
}
