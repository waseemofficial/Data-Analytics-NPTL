{
 "cells": [
  {
   "cell_type": "code",
   "execution_count": 1,
   "metadata": {},
   "outputs": [],
   "source": [
    "import pandas as pd \n",
    "import numpy as np\n",
    "import matplotlib.pyplot as plt\n",
    "import seaborn as sns\n",
    "import warnings\n",
    "warnings.filterwarnings('ignore')\n",
    "\n",
    "%matplotlib inline\n",
    "#pd.set_option(\"max_column\",200)\n",
    "plt.style.use(\"ggplot\")"
   ]
  },
  {
   "cell_type": "markdown",
   "metadata": {},
   "source": [
    "# Visual Representation of data \n",
    "- Histogram -- vertical bar chart of frequencies\n",
    "- Frequency Polygon -- line graph of frequencies\n",
    "- Ogive -- line graph of comutative frequencies\n",
    "- Pie Chart -- proportional representation of categories of a whole\n",
    "- Stem and Leaf plot\n",
    "- Pareto Chart\n",
    "- Scatter Plot"
   ]
  },
  {
   "cell_type": "markdown",
   "metadata": {},
   "source": [
    "# <center> Nominal Scale Data\n",
    "--------------------------------------------------------------------------------------------------------------------------------------------------\n",
    "1. Qualitative / Categorical\n",
    "2. Name , Color ,Labels , Gender etc  "
   ]
  },
  {
   "cell_type": "markdown",
   "metadata": {},
   "source": [
    "# <center> Ordinal scale Data\n",
    "--------------------------------------------------------------------------------------------------------------------------------------------------\n",
    "1. Ranking / Placement\n",
    "2. The order matters\n",
    "3. Difference canot be measured"
   ]
  },
  {
   "cell_type": "markdown",
   "metadata": {},
   "source": [
    "# <center> Intervak scale Data\n",
    "--------------------------------------------------------------------------------------------------------------------------------------------------\n",
    "1. the Order matters\n",
    "2. Difference can be measured (except ratio)\n",
    "3. No true \"0\" Zero String point"
   ]
  },
  {
   "cell_type": "markdown",
   "metadata": {},
   "source": [
    "# <center> Ratio scale Data\n",
    "--------------------------------------------------------------------------------------------------------------------------------------------------\n",
    "1. The order matters\n",
    "2. Difference are measured (include ratio)\n",
    "3. contains \"0\" Zero String point"
   ]
  },
  {
   "cell_type": "markdown",
   "metadata": {},
   "source": [
    "<center> <img src=\"./statistics.excalidraw.png\" >"
   ]
  },
  {
   "cell_type": "markdown",
   "metadata": {},
   "source": [
    "|Data                           | Nominal |Ordinal | Interval | Ratio |\n",
    "|-------------------------------|---------|--------|----------|-------|\n",
    "| Categories                    | ✔️      | ✔️    |   ✔️    |    ✔️ |\n",
    "| Order/rank                    |         |   ✔️   |  ✔️     |  ✔️   |\n",
    "| Equal spacing                 |         |        |  ✔️    |   ✔️   |\n",
    "| True absolute zero            |         |        |          |   ✔️  |\n",
    "| can add and substract         |         |        |  ✔️    |   ✔️   |\n",
    "| Can multiply and divide       |         |        |          |   ✔️  |\n",
    "|can calculate mode             | ✔️      | ✔️    |   ✔️    |    ✔️ |\n",
    "|can calculate median           |         |   ✔️   |  ✔️     |  ✔️   |\n",
    "|can calculate Arthematic       |         |        |  ✔️    |   ✔️   |\n",
    "|can calculate Geometric Mean   |         |        |          |   ✔️  |\n",
    "\n",
    "https://www.youtube.com/watch?v=5Yh-9xdJzAs"
   ]
  },
  {
   "cell_type": "code",
   "execution_count": null,
   "metadata": {},
   "outputs": [],
   "source": []
  },
  {
   "cell_type": "markdown",
   "metadata": {},
   "source": [
    "# <center> Summary Statistics\n",
    ". Central tendency or measures of location\n",
    "- Arithmetic mean\n",
    "- Weighted mean \n",
    "- Meadian\n",
    "- Percentile\n",
    "\n",
    ". Dispersion\n",
    "- Skewness\n",
    "- Kurtosis\n",
    "- Range\n",
    "- Interquartile range\n",
    "- Variance\n",
    "- Standard score\n",
    "- Coefficient of Variation"
   ]
  },
  {
   "cell_type": "markdown",
   "metadata": {},
   "source": [
    "# <center > Descriptive vs Inferential Statistics\n",
    "https://www.youtube.com/watch?v=EUeQRE5UJpg"
   ]
  },
  {
   "cell_type": "markdown",
   "metadata": {},
   "source": [
    "# <center > Descriptive Statistics\n",
    "https://www.youtube.com/watch?v=SplCk-t1BeA"
   ]
  },
  {
   "cell_type": "markdown",
   "metadata": {},
   "source": [
    "# <center> Arithmetic Mean\n",
    "- Applicable for interval and ratio data\n",
    "- Not applicable for nominal or ordinal data\n",
    "- Affected by each value in the data set,<span style=\"color:red\"> including extreme values</span>\n",
    "\n",
    "$$ \\mu = \\frac{\\sum {X}}{N}$$"
   ]
  },
  {
   "cell_type": "markdown",
   "metadata": {},
   "source": [
    "# Mean of Grouped Data\n",
    ". Weighted average of class midpoints\n",
    ". Class frequencies are the weights\n",
    "\n",
    "$$\\mu = \\frac{\\sum{fM}}{\\sum{f}}$$\n",
    "\n",
    "$$= \\frac{\\sum{fM}}{N}$$\n",
    "\n",
    "$$= \\frac{f_1M_1 + f_2M_2 + f_3M_3 + . . . + f_nM_n}{f_1 + f_2 + f_3 +...+ f_n}$$"
   ]
  },
  {
   "cell_type": "markdown",
   "metadata": {},
   "source": [
    "|Class Interval | Frequency(f)| Class Midpoint (M) | fM  |\n",
    "|---------------|-------------|--------------------|-----|\n",
    "|20-under-30    |       6     |          25        | 150 |\n",
    "|30-under-40    |      18     |          35        |  630|\n",
    "|40-under-50    |     11      |          45        |495  |\n",
    "|50-under-60    |       11     |        55        | 605 |\n",
    "|60-under-70    |      3    |          65       |  195|\n",
    "|70-under-80    |     1      |          75        |75  |\n",
    "|               |   50        |                 |   2150|\n",
    "\n",
    "$$\\mu = \\frac{\\sum{fM}}{\\sum{f}} = \\frac{2150}{50} = 43.0$$  "
   ]
  },
  {
   "cell_type": "markdown",
   "metadata": {},
   "source": [
    "\n",
    "# Weighted Average\n",
    ". Sometimes we wish to average number , but we want to assign more importance, or weight to some of the numbers <br>\n",
    ". the average you need is the <span style=\"color:red\" >weighted average </span>"
   ]
  },
  {
   "cell_type": "markdown",
   "metadata": {},
   "source": [
    "# Formula for Weighted Average \n",
    "\n",
    "$$ Weighted\\space Average = \\frac{\\sum{xw}}{\\sum{w}}$$"
   ]
  },
  {
   "cell_type": "markdown",
   "metadata": {},
   "source": [
    "# <center> Median\n",
    "- Applicable for ordinal, interval and ratio data\n",
    "- Not applicable for norminal data\n",
    "- Uneffected by extremely large and extremely small values"
   ]
  },
  {
   "cell_type": "markdown",
   "metadata": {},
   "source": [
    "## Median Computational Procedure\n",
    "-> First Procedure\n",
    "- Arrange the observations in an ordered array\n",
    "- If there is an odd number of items, the median is the middle term of the ordered array\n",
    "- If there is an even number of items, the median is the average of the middle two terms\n",
    "\n",
    "-> Second Procedure\n",
    "- the median's position in an ordered array is given by $\\frac{n+1}{2}$ "
   ]
  },
  {
   "cell_type": "markdown",
   "metadata": {},
   "source": [
    "# <center> Median of Grouped Data - Example\n",
    "\n",
    "|Class Interval | Frequency(f)| Comulatice freq |\n",
    "|---------------|-------------|--------------------|\n",
    "|20-under-30    |       6     |          6        |\n",
    "|30-under-40    |      18     |          24        |\n",
    "|<span style=\"color:red\">40</span>-under-50    |    <span style=\"color:red\"> 11 </span>     |          <span style=\"color:red\">35</span>        |\n",
    "|50-under-60    |       11     |        46        |\n",
    "|60-under-70    |      3    |          49       |\n",
    "|70-under-80    |     1      |          50        |\n",
    "|               | <span style=\"color:green\">N=  50</span>        |                 |\n",
    "\n",
    "$$ md = L + \\frac{\\frac{N}{2} - cf_p}{f_{med}} (W)$$  \n",
    "$$md = 40 + \\frac{\\frac{50}{2} - 24}{11} (10)$$\n",
    "$$=40.909$$"
   ]
  },
  {
   "cell_type": "markdown",
   "metadata": {},
   "source": [
    "# <center> Mode \n",
    "- Applicable to all levels of Data measurement (nominal,ordinal,interval and ratio)\n",
    "- Bimodal -- Data sets that have two modes\n",
    "- Multimodal -- Data set that contain more than two mode "
   ]
  },
  {
   "cell_type": "markdown",
   "metadata": {},
   "source": [
    "# <center> Mode of the Grouped Data\n",
    "\n",
    "|Class Interval | Frequency(f)|\n",
    "|---------------|-------------|\n",
    "|20-under-30    |       6     |\n",
    "|<span style=\"color:red\">30-under-40 </span>   |<span style=\"color:red\">      18</span>     |\n",
    "|40-under-50    |     11     |\n",
    "|50-under-60    |       11     |\n",
    "|60-under-70    |      3    |\n",
    "|70-under-80    |     1      |\n",
    "\n",
    "$$Mod = L_{Mo} + (\\frac{d_1}{d_1+d_2})w$$\n",
    "$$d_1=18-6=12$$\n",
    "$$d_2=18-11=7$$\n",
    "$$class\\space  width  (w)= 10$$\n",
    "$$30+ (\\frac{12}{12+7})10=36.31$$"
   ]
  },
  {
   "cell_type": "markdown",
   "metadata": {},
   "source": [
    "# <center> Measures of Variability of Dispersion\n",
    "Common Measures of Variability\n",
    "- Range\n",
    "- Inter-quartile range\n",
    "- Mean Absolute Deviation\n",
    "- Variance\n",
    "- Standerd Deviation\n",
    "- Z-scores\n",
    "-  Coefficient of Variation"
   ]
  },
  {
   "cell_type": "markdown",
   "metadata": {},
   "source": [
    "# <center> Variance\n",
    "\n",
    "$$\\sigma = \\frac{1}{n}\\sum_{i=1}^{n}(x_i - \\bar{x})^2$$"
   ]
  },
  {
   "cell_type": "markdown",
   "metadata": {},
   "source": [
    "# <center> Standard deviation\n",
    "https://www.youtube.com/watch?v=esskJJF8pCc\n",
    "\n",
    "For whole Population use\n",
    "$$Standard\\space deviation = \\sqrt{Variance}$$\n",
    "$$\\sigma = \\sqrt{\\frac{1}{n}\\sum_{i=1}^{n}(x_i - \\bar{x})^2} \\space\\space cm^2$$\n",
    "\n",
    "For sample population use \n",
    "$$s=\\sqrt{\\frac{1}{n-1}\\sum_{i=1}^{n}(x_i - \\bar{x})^2} \\space\\space cm$$"
   ]
  },
  {
   "cell_type": "markdown",
   "metadata": {},
   "source": [
    "# <center> Coeficent of Variation\n",
    "\n",
    "$$cov=\\frac{\\sigma}{median}=\\frac{\\sigma}{X}$$\n",
    "\n",
    "$$cv=\\frac{\\sigma}{\\mu}(100)$$"
   ]
  },
  {
   "cell_type": "markdown",
   "metadata": {},
   "source": [
    "# <center> Coefficient Skewness\n",
    "\n",
    "$$S=\\frac{3(\\mu - M_d)}{\\sigma}$$\n",
    "\n",
    "if S < 0 then it is <span style=\"color:red\">Negative</span> (skewed to the Left)\n",
    "\n",
    "if S = 0 then it is <span style=\"color:orange\">Symmetric</span> (not skewed)\n",
    "\n",
    "if S > 0 then it is <span style=\"color:green\">Positively</span> (skewed to the right)\n"
   ]
  },
  {
   "cell_type": "markdown",
   "metadata": {},
   "source": [
    "# <center> Python code"
   ]
  },
  {
   "cell_type": "code",
   "execution_count": null,
   "metadata": {},
   "outputs": [],
   "source": [
    "import statistics\n",
    "x=\n",
    "#statistics.pstdev(x)\n"
   ]
  },
  {
   "cell_type": "markdown",
   "metadata": {},
   "source": [
    "# <center > Factor analysis\n",
    "https://www.youtube.com/watch?v=ttBs_wfw_6U"
   ]
  },
  {
   "cell_type": "code",
   "execution_count": 2,
   "metadata": {},
   "outputs": [],
   "source": [
    "#%pip install factor-analyzer"
   ]
  },
  {
   "cell_type": "code",
   "execution_count": 3,
   "metadata": {},
   "outputs": [
    {
     "data": {
      "text/plain": [
       "Index(['rownames', 'A1', 'A2', 'A3', 'A4', 'A5', 'C1', 'C2', 'C3', 'C4', 'C5',\n",
       "       'E1', 'E2', 'E3', 'E4', 'E5', 'N1', 'N2', 'N3', 'N4', 'N5', 'O1', 'O2',\n",
       "       'O3', 'O4', 'O5', 'gender', 'education', 'age'],\n",
       "      dtype='object')"
      ]
     },
     "execution_count": 3,
     "metadata": {},
     "output_type": "execute_result"
    }
   ],
   "source": [
    "from factor_analyzer import FactorAnalyzer\n",
    "factor_analysis= pd.read_csv(\"factor_analysis.csv\")\n",
    "factor_analysis.columns"
   ]
  },
  {
   "cell_type": "code",
   "execution_count": 4,
   "metadata": {},
   "outputs": [],
   "source": [
    "factor_analysis.drop([\"gender\",\"education\" ,\"age\"],inplace=True,axis=1)"
   ]
  },
  {
   "cell_type": "code",
   "execution_count": 5,
   "metadata": {},
   "outputs": [
    {
     "data": {
      "text/plain": [
       "Index(['A1', 'A2', 'A3', 'A4', 'A5', 'C1', 'C2', 'C3', 'C4', 'C5', 'E1', 'E2',\n",
       "       'E3', 'E4', 'E5', 'N1', 'N2', 'N3', 'N4', 'N5', 'O1', 'O2', 'O3', 'O4',\n",
       "       'O5'],\n",
       "      dtype='object')"
      ]
     },
     "execution_count": 5,
     "metadata": {},
     "output_type": "execute_result"
    }
   ],
   "source": [
    "factor_analysis=factor_analysis.iloc[0:,1:26]\n",
    "factor_analysis.columns"
   ]
  },
  {
   "cell_type": "code",
   "execution_count": 6,
   "metadata": {},
   "outputs": [
    {
     "data": {
      "text/html": [
       "<div>\n",
       "<style scoped>\n",
       "    .dataframe tbody tr th:only-of-type {\n",
       "        vertical-align: middle;\n",
       "    }\n",
       "\n",
       "    .dataframe tbody tr th {\n",
       "        vertical-align: top;\n",
       "    }\n",
       "\n",
       "    .dataframe thead th {\n",
       "        text-align: right;\n",
       "    }\n",
       "</style>\n",
       "<table border=\"1\" class=\"dataframe\">\n",
       "  <thead>\n",
       "    <tr style=\"text-align: right;\">\n",
       "      <th></th>\n",
       "      <th>A1</th>\n",
       "      <th>A2</th>\n",
       "      <th>A3</th>\n",
       "      <th>A4</th>\n",
       "      <th>A5</th>\n",
       "      <th>C1</th>\n",
       "      <th>C2</th>\n",
       "      <th>C3</th>\n",
       "      <th>C4</th>\n",
       "      <th>C5</th>\n",
       "      <th>...</th>\n",
       "      <th>N1</th>\n",
       "      <th>N2</th>\n",
       "      <th>N3</th>\n",
       "      <th>N4</th>\n",
       "      <th>N5</th>\n",
       "      <th>O1</th>\n",
       "      <th>O2</th>\n",
       "      <th>O3</th>\n",
       "      <th>O4</th>\n",
       "      <th>O5</th>\n",
       "    </tr>\n",
       "  </thead>\n",
       "  <tbody>\n",
       "    <tr>\n",
       "      <th>0</th>\n",
       "      <td>2.0</td>\n",
       "      <td>4.0</td>\n",
       "      <td>3.0</td>\n",
       "      <td>4.0</td>\n",
       "      <td>4.0</td>\n",
       "      <td>2.0</td>\n",
       "      <td>3.0</td>\n",
       "      <td>3.0</td>\n",
       "      <td>4.0</td>\n",
       "      <td>4.0</td>\n",
       "      <td>...</td>\n",
       "      <td>3.0</td>\n",
       "      <td>4.0</td>\n",
       "      <td>2.0</td>\n",
       "      <td>2.0</td>\n",
       "      <td>3.0</td>\n",
       "      <td>3.0</td>\n",
       "      <td>6</td>\n",
       "      <td>3.0</td>\n",
       "      <td>4.0</td>\n",
       "      <td>3.0</td>\n",
       "    </tr>\n",
       "    <tr>\n",
       "      <th>1</th>\n",
       "      <td>2.0</td>\n",
       "      <td>4.0</td>\n",
       "      <td>5.0</td>\n",
       "      <td>2.0</td>\n",
       "      <td>5.0</td>\n",
       "      <td>5.0</td>\n",
       "      <td>4.0</td>\n",
       "      <td>4.0</td>\n",
       "      <td>3.0</td>\n",
       "      <td>4.0</td>\n",
       "      <td>...</td>\n",
       "      <td>3.0</td>\n",
       "      <td>3.0</td>\n",
       "      <td>3.0</td>\n",
       "      <td>5.0</td>\n",
       "      <td>5.0</td>\n",
       "      <td>4.0</td>\n",
       "      <td>2</td>\n",
       "      <td>4.0</td>\n",
       "      <td>3.0</td>\n",
       "      <td>3.0</td>\n",
       "    </tr>\n",
       "    <tr>\n",
       "      <th>2</th>\n",
       "      <td>5.0</td>\n",
       "      <td>4.0</td>\n",
       "      <td>5.0</td>\n",
       "      <td>4.0</td>\n",
       "      <td>4.0</td>\n",
       "      <td>4.0</td>\n",
       "      <td>5.0</td>\n",
       "      <td>4.0</td>\n",
       "      <td>2.0</td>\n",
       "      <td>5.0</td>\n",
       "      <td>...</td>\n",
       "      <td>4.0</td>\n",
       "      <td>5.0</td>\n",
       "      <td>4.0</td>\n",
       "      <td>2.0</td>\n",
       "      <td>3.0</td>\n",
       "      <td>4.0</td>\n",
       "      <td>2</td>\n",
       "      <td>5.0</td>\n",
       "      <td>5.0</td>\n",
       "      <td>2.0</td>\n",
       "    </tr>\n",
       "    <tr>\n",
       "      <th>3</th>\n",
       "      <td>4.0</td>\n",
       "      <td>4.0</td>\n",
       "      <td>6.0</td>\n",
       "      <td>5.0</td>\n",
       "      <td>5.0</td>\n",
       "      <td>4.0</td>\n",
       "      <td>4.0</td>\n",
       "      <td>3.0</td>\n",
       "      <td>5.0</td>\n",
       "      <td>5.0</td>\n",
       "      <td>...</td>\n",
       "      <td>2.0</td>\n",
       "      <td>5.0</td>\n",
       "      <td>2.0</td>\n",
       "      <td>4.0</td>\n",
       "      <td>1.0</td>\n",
       "      <td>3.0</td>\n",
       "      <td>3</td>\n",
       "      <td>4.0</td>\n",
       "      <td>3.0</td>\n",
       "      <td>5.0</td>\n",
       "    </tr>\n",
       "    <tr>\n",
       "      <th>4</th>\n",
       "      <td>2.0</td>\n",
       "      <td>3.0</td>\n",
       "      <td>3.0</td>\n",
       "      <td>4.0</td>\n",
       "      <td>5.0</td>\n",
       "      <td>4.0</td>\n",
       "      <td>4.0</td>\n",
       "      <td>5.0</td>\n",
       "      <td>3.0</td>\n",
       "      <td>2.0</td>\n",
       "      <td>...</td>\n",
       "      <td>2.0</td>\n",
       "      <td>3.0</td>\n",
       "      <td>4.0</td>\n",
       "      <td>4.0</td>\n",
       "      <td>3.0</td>\n",
       "      <td>3.0</td>\n",
       "      <td>3</td>\n",
       "      <td>4.0</td>\n",
       "      <td>3.0</td>\n",
       "      <td>3.0</td>\n",
       "    </tr>\n",
       "  </tbody>\n",
       "</table>\n",
       "<p>5 rows × 25 columns</p>\n",
       "</div>"
      ],
      "text/plain": [
       "    A1   A2   A3   A4   A5   C1   C2   C3   C4   C5  ...   N1   N2   N3   N4  \\\n",
       "0  2.0  4.0  3.0  4.0  4.0  2.0  3.0  3.0  4.0  4.0  ...  3.0  4.0  2.0  2.0   \n",
       "1  2.0  4.0  5.0  2.0  5.0  5.0  4.0  4.0  3.0  4.0  ...  3.0  3.0  3.0  5.0   \n",
       "2  5.0  4.0  5.0  4.0  4.0  4.0  5.0  4.0  2.0  5.0  ...  4.0  5.0  4.0  2.0   \n",
       "3  4.0  4.0  6.0  5.0  5.0  4.0  4.0  3.0  5.0  5.0  ...  2.0  5.0  2.0  4.0   \n",
       "4  2.0  3.0  3.0  4.0  5.0  4.0  4.0  5.0  3.0  2.0  ...  2.0  3.0  4.0  4.0   \n",
       "\n",
       "    N5   O1  O2   O3   O4   O5  \n",
       "0  3.0  3.0   6  3.0  4.0  3.0  \n",
       "1  5.0  4.0   2  4.0  3.0  3.0  \n",
       "2  3.0  4.0   2  5.0  5.0  2.0  \n",
       "3  1.0  3.0   3  4.0  3.0  5.0  \n",
       "4  3.0  3.0   3  4.0  3.0  3.0  \n",
       "\n",
       "[5 rows x 25 columns]"
      ]
     },
     "execution_count": 6,
     "metadata": {},
     "output_type": "execute_result"
    }
   ],
   "source": [
    "factor_analysis.head()"
   ]
  },
  {
   "cell_type": "code",
   "execution_count": 7,
   "metadata": {},
   "outputs": [],
   "source": [
    "#factor_analysis.isna().sum()"
   ]
  },
  {
   "cell_type": "code",
   "execution_count": 8,
   "metadata": {},
   "outputs": [],
   "source": [
    "factor_analysis= factor_analysis.dropna()"
   ]
  },
  {
   "cell_type": "code",
   "execution_count": 9,
   "metadata": {},
   "outputs": [],
   "source": [
    "fa=FactorAnalyzer(n_factors=16,rotation=\"varimax\")"
   ]
  },
  {
   "cell_type": "code",
   "execution_count": 10,
   "metadata": {},
   "outputs": [
    {
     "data": {
      "text/html": [
       "<style>#sk-container-id-1 {color: black;background-color: white;}#sk-container-id-1 pre{padding: 0;}#sk-container-id-1 div.sk-toggleable {background-color: white;}#sk-container-id-1 label.sk-toggleable__label {cursor: pointer;display: block;width: 100%;margin-bottom: 0;padding: 0.3em;box-sizing: border-box;text-align: center;}#sk-container-id-1 label.sk-toggleable__label-arrow:before {content: \"▸\";float: left;margin-right: 0.25em;color: #696969;}#sk-container-id-1 label.sk-toggleable__label-arrow:hover:before {color: black;}#sk-container-id-1 div.sk-estimator:hover label.sk-toggleable__label-arrow:before {color: black;}#sk-container-id-1 div.sk-toggleable__content {max-height: 0;max-width: 0;overflow: hidden;text-align: left;background-color: #f0f8ff;}#sk-container-id-1 div.sk-toggleable__content pre {margin: 0.2em;color: black;border-radius: 0.25em;background-color: #f0f8ff;}#sk-container-id-1 input.sk-toggleable__control:checked~div.sk-toggleable__content {max-height: 200px;max-width: 100%;overflow: auto;}#sk-container-id-1 input.sk-toggleable__control:checked~label.sk-toggleable__label-arrow:before {content: \"▾\";}#sk-container-id-1 div.sk-estimator input.sk-toggleable__control:checked~label.sk-toggleable__label {background-color: #d4ebff;}#sk-container-id-1 div.sk-label input.sk-toggleable__control:checked~label.sk-toggleable__label {background-color: #d4ebff;}#sk-container-id-1 input.sk-hidden--visually {border: 0;clip: rect(1px 1px 1px 1px);clip: rect(1px, 1px, 1px, 1px);height: 1px;margin: -1px;overflow: hidden;padding: 0;position: absolute;width: 1px;}#sk-container-id-1 div.sk-estimator {font-family: monospace;background-color: #f0f8ff;border: 1px dotted black;border-radius: 0.25em;box-sizing: border-box;margin-bottom: 0.5em;}#sk-container-id-1 div.sk-estimator:hover {background-color: #d4ebff;}#sk-container-id-1 div.sk-parallel-item::after {content: \"\";width: 100%;border-bottom: 1px solid gray;flex-grow: 1;}#sk-container-id-1 div.sk-label:hover label.sk-toggleable__label {background-color: #d4ebff;}#sk-container-id-1 div.sk-serial::before {content: \"\";position: absolute;border-left: 1px solid gray;box-sizing: border-box;top: 0;bottom: 0;left: 50%;z-index: 0;}#sk-container-id-1 div.sk-serial {display: flex;flex-direction: column;align-items: center;background-color: white;padding-right: 0.2em;padding-left: 0.2em;position: relative;}#sk-container-id-1 div.sk-item {position: relative;z-index: 1;}#sk-container-id-1 div.sk-parallel {display: flex;align-items: stretch;justify-content: center;background-color: white;position: relative;}#sk-container-id-1 div.sk-item::before, #sk-container-id-1 div.sk-parallel-item::before {content: \"\";position: absolute;border-left: 1px solid gray;box-sizing: border-box;top: 0;bottom: 0;left: 50%;z-index: -1;}#sk-container-id-1 div.sk-parallel-item {display: flex;flex-direction: column;z-index: 1;position: relative;background-color: white;}#sk-container-id-1 div.sk-parallel-item:first-child::after {align-self: flex-end;width: 50%;}#sk-container-id-1 div.sk-parallel-item:last-child::after {align-self: flex-start;width: 50%;}#sk-container-id-1 div.sk-parallel-item:only-child::after {width: 0;}#sk-container-id-1 div.sk-dashed-wrapped {border: 1px dashed gray;margin: 0 0.4em 0.5em 0.4em;box-sizing: border-box;padding-bottom: 0.4em;background-color: white;}#sk-container-id-1 div.sk-label label {font-family: monospace;font-weight: bold;display: inline-block;line-height: 1.2em;}#sk-container-id-1 div.sk-label-container {text-align: center;}#sk-container-id-1 div.sk-container {/* jupyter's `normalize.less` sets `[hidden] { display: none; }` but bootstrap.min.css set `[hidden] { display: none !important; }` so we also need the `!important` here to be able to override the default hidden behavior on the sphinx rendered scikit-learn.org. See: https://github.com/scikit-learn/scikit-learn/issues/21755 */display: inline-block !important;position: relative;}#sk-container-id-1 div.sk-text-repr-fallback {display: none;}</style><div id=\"sk-container-id-1\" class=\"sk-top-container\"><div class=\"sk-text-repr-fallback\"><pre>FactorAnalyzer(n_factors=16, rotation=&#x27;varimax&#x27;, rotation_kwargs={})</pre><b>In a Jupyter environment, please rerun this cell to show the HTML representation or trust the notebook. <br />On GitHub, the HTML representation is unable to render, please try loading this page with nbviewer.org.</b></div><div class=\"sk-container\" hidden><div class=\"sk-item\"><div class=\"sk-estimator sk-toggleable\"><input class=\"sk-toggleable__control sk-hidden--visually\" id=\"sk-estimator-id-1\" type=\"checkbox\" checked><label for=\"sk-estimator-id-1\" class=\"sk-toggleable__label sk-toggleable__label-arrow\">FactorAnalyzer</label><div class=\"sk-toggleable__content\"><pre>FactorAnalyzer(n_factors=16, rotation=&#x27;varimax&#x27;, rotation_kwargs={})</pre></div></div></div></div></div>"
      ],
      "text/plain": [
       "FactorAnalyzer(n_factors=16, rotation='varimax', rotation_kwargs={})"
      ]
     },
     "execution_count": 10,
     "metadata": {},
     "output_type": "execute_result"
    }
   ],
   "source": [
    "fa.fit(factor_analysis)"
   ]
  },
  {
   "cell_type": "code",
   "execution_count": 11,
   "metadata": {},
   "outputs": [],
   "source": [
    "loading=fa.loadings_"
   ]
  },
  {
   "cell_type": "code",
   "execution_count": 12,
   "metadata": {},
   "outputs": [],
   "source": [
    "ev,V=fa.get_eigenvalues()"
   ]
  },
  {
   "cell_type": "code",
   "execution_count": 13,
   "metadata": {},
   "outputs": [],
   "source": [
    "# scatterplot\n",
    "xvals=range(1,factor_analysis.shape[1]+1)"
   ]
  },
  {
   "cell_type": "code",
   "execution_count": 14,
   "metadata": {},
   "outputs": [
    {
     "data": {
      "image/png": "[encoded data removed]",
      "text/plain": [
       "<Figure size 640x480 with 1 Axes>"
      ]
     },
     "metadata": {},
     "output_type": "display_data"
    }
   ],
   "source": [
    "plt.scatter(xvals,ev)\n",
    "plt.plot(xvals,ev)\n",
    "plt.title(\"screen plot\")\n",
    "plt.xlabel(\"Factor\")\n",
    "plt.ylabel(\"Eigenvalue\")\n",
    "#plt.grid()\n",
    "plt.show()"
   ]
  },
  {
   "cell_type": "markdown",
   "metadata": {},
   "source": [
    "# <center> chi sqr test\n",
    "https://www.youtube.com/watch?v=b05YbbLtjoM\n",
    "\n",
    "https://www.youtube.com/watch?v=EjtXk-yEK6w\n",
    "\n",
    "this is used for Categorical data\n",
    "\n",
    "$ chi^2 $ -test\n",
    "\n",
    "$$x^2=\\sum_{k=1}^{n}\\frac{(O_k - E_k)^2}{E_k}$$\n",
    "$O_k$ is the observed frequency\n",
    "\n",
    "$E_k$ is the expected frequency\n"
   ]
  },
  {
   "cell_type": "markdown",
   "metadata": {},
   "source": [
    "# <center> T-test\n",
    "https://www.youtube.com/watch?v=VekJxtk4BYM\n"
   ]
  },
  {
   "cell_type": "markdown",
   "metadata": {},
   "source": [
    "# <center> Anova\n",
    "independent variables and one dependent variable\n",
    "\n",
    "the independent variable is always Nominal data\n"
   ]
  },
  {
   "cell_type": "markdown",
   "metadata": {},
   "source": [
    "# <center> two way Anova\n",
    "\n",
    "https://www.youtube.com/watch?v=7OY0DdFyJBg\n",
    "\n",
    "two independent variables and one dependent variable\n",
    "\n",
    "both the independent variable is always Nominal data\n"
   ]
  },
  {
   "cell_type": "code",
   "execution_count": null,
   "metadata": {},
   "outputs": [],
   "source": []
  },
  {
   "cell_type": "markdown",
   "metadata": {},
   "source": [
    "# <center > Inferential Statistics\n",
    "https://www.youtube.com/watch?v=6E6pB5JFLgM"
   ]
  },
  {
   "cell_type": "markdown",
   "metadata": {},
   "source": [
    "# "
   ]
  },
  {
   "cell_type": "markdown",
   "metadata": {},
   "source": [
    "# 30 min Review\n",
    "https://www.youtube.com/watch?v=kyjlxsLW1Is"
   ]
  }
 ],
 "metadata": {
  "kernelspec": {
   "display_name": "base",
   "language": "python",
   "name": "python3"
  },
  "language_info": {
   "codemirror_mode": {
    "name": "ipython",
    "version": 3
   },
   "file_extension": ".py",
   "mimetype": "text/x-python",
   "name": "python",
   "nbconvert_exporter": "python",
   "pygments_lexer": "ipython3",
   "version": "3.11.5"
  }
 },
 "nbformat": 4,
 "nbformat_minor": 2
}
