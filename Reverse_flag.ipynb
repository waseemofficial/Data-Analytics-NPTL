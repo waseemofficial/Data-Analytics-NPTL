{
 "cells": [
  {
   "cell_type": "markdown",
   "id": "d84d3568-e283-4b35-aa6d-98747ba3c60c",
   "metadata": {},
   "source": [
    "## inference"
   ]
  },
  {
   "cell_type": "markdown",
   "id": "9b7714d7-3454-4fed-b64a-310a2b7ebe4a",
   "metadata": {},
   "source": [
    "?gnidaer llits uoy era yhW .uoy htiw skcans thguorb ev'dluohs uoY .skcans rof pots t'noD .won oG .tsaf oG .niW .galf eht teG .ledom eht esreveR"
   ]
  },
  {
   "cell_type": "code",
   "execution_count": 12,
   "id": "90389568-ae00-4d28-81f7-1e01fa42b0bb",
   "metadata": {},
   "outputs": [],
   "source": [
    "import numpy as np\n",
    "import requests\n",
    "import json"
   ]
  },
  {
   "cell_type": "code",
   "execution_count": 13,
   "id": "59c24798-1b2d-4630-8d3c-7a156d9b7c80",
   "metadata": {},
   "outputs": [
    {
     "name": "stdout",
     "output_type": "stream",
     "text": [
      "{\"outputs\": [[0.568577229976654, 0.007197922561317682, 0.22278589010238647, 0.026494013145565987, 0.026174886152148247, 0.14877009391784668]]}\n"
     ]
    }
   ],
   "source": [
    "x = np.random.uniform(1, 0, (1, 32, 32,1))\n",
    "x = np.flipud(x)\n",
    "try:\n",
    "    response = requests.post(\"https://inference.fly.dev/score\", data = json.dumps({\"input\": x.tolist()}))\n",
    "    print(response.text)\n",
    "except requests.exceptions.ConnectionError:\n",
    "    print(\"Connection problems. Contact the CTF organizers.\")"
   ]
  },
  {
   "cell_type": "code",
   "execution_count": 14,
   "id": "af4392f3-3b92-4ac1-abbb-f1c5aa5385eb",
   "metadata": {},
   "outputs": [],
   "source": [
    "text=\"?gnidaer llits uoy era yhW .uoy htiw skcans thguorb ev'dluohs uoY .skcans rof pots t'noD .won oG .tsaf oG .niW .galf eht teG .ledom eht esreveR\""
   ]
  },
  {
   "cell_type": "code",
   "execution_count": 15,
   "id": "101e3ccb-7778-4be3-9050-0a06b7cca97c",
   "metadata": {},
   "outputs": [],
   "source": [
    "string = np.array(list(text))"
   ]
  },
  {
   "cell_type": "code",
   "execution_count": 19,
   "id": "4ff513b9-ee3b-4025-aab4-0fcc20ccb8d9",
   "metadata": {},
   "outputs": [
    {
     "data": {
      "text/plain": [
       "array(['R', 'e', 'v', 'e', 'r', 's', 'e', ' ', 't', 'h', 'e', ' ', 'm',\n",
       "       'o', 'd', 'e', 'l', '.', ' ', 'G', 'e', 't', ' ', 't', 'h', 'e',\n",
       "       ' ', 'f', 'l', 'a', 'g', '.', ' ', 'W', 'i', 'n', '.', ' ', 'G',\n",
       "       'o', ' ', 'f', 'a', 's', 't', '.', ' ', 'G', 'o', ' ', 'n', 'o',\n",
       "       'w', '.', ' ', 'D', 'o', 'n', \"'\", 't', ' ', 's', 't', 'o', 'p',\n",
       "       ' ', 'f', 'o', 'r', ' ', 's', 'n', 'a', 'c', 'k', 's', '.', ' ',\n",
       "       'Y', 'o', 'u', ' ', 's', 'h', 'o', 'u', 'l', 'd', \"'\", 'v', 'e',\n",
       "       ' ', 'b', 'r', 'o', 'u', 'g', 'h', 't', ' ', 's', 'n', 'a', 'c',\n",
       "       'k', 's', ' ', 'w', 'i', 't', 'h', ' ', 'y', 'o', 'u', '.', ' ',\n",
       "       'W', 'h', 'y', ' ', 'a', 'r', 'e', ' ', 'y', 'o', 'u', ' ', 's',\n",
       "       't', 'i', 'l', 'l', ' ', 'r', 'e', 'a', 'd', 'i', 'n', 'g', '?'],\n",
       "      dtype='<U1')"
      ]
     },
     "execution_count": 19,
     "metadata": {},
     "output_type": "execute_result"
    }
   ],
   "source": [
    "np.flipud(string)"
   ]
  },
  {
   "cell_type": "code",
   "execution_count": 6,
   "id": "ddb693c6-d461-4a89-90ca-c378a813160a",
   "metadata": {},
   "outputs": [
    {
     "ename": "AttributeError",
     "evalue": "'str' object has no attribute 'reverse'",
     "output_type": "error",
     "traceback": [
      "\u001b[1;31m---------------------------------------------------------------------------\u001b[0m",
      "\u001b[1;31mAttributeError\u001b[0m                            Traceback (most recent call last)",
      "Input \u001b[1;32mIn [6]\u001b[0m, in \u001b[0;36m<cell line: 1>\u001b[1;34m()\u001b[0m\n\u001b[1;32m----> 1\u001b[0m \u001b[43mtext\u001b[49m\u001b[38;5;241;43m.\u001b[39;49m\u001b[43mreverse\u001b[49m()\n",
      "\u001b[1;31mAttributeError\u001b[0m: 'str' object has no attribute 'reverse'"
     ]
    }
   ],
   "source": [
    "text.reverse()"
   ]
  },
  {
   "cell_type": "code",
   "execution_count": null,
   "id": "1452d685-7304-48a6-8bc6-416ec8c02487",
   "metadata": {},
   "outputs": [],
   "source": []
  }
 ],
 "metadata": {
  "kernelspec": {
   "display_name": "Python 3 (ipykernel)",
   "language": "python",
   "name": "python3"
  },
  "language_info": {
   "codemirror_mode": {
    "name": "ipython",
    "version": 3
   },
   "file_extension": ".py",
   "mimetype": "text/x-python",
   "name": "python",
   "nbconvert_exporter": "python",
   "pygments_lexer": "ipython3",
   "version": "3.9.12"
  }
 },
 "nbformat": 4,
 "nbformat_minor": 5
}
