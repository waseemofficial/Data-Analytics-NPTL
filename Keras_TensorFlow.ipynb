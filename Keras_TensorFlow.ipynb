{
 "cells": [
  {
   "cell_type": "markdown",
   "metadata": {},
   "source": [
    "# <center> <span style=\"color:lightblue\">**Keras And TensorFlow**</span>"
   ]
  },
  {
   "cell_type": "code",
   "execution_count": null,
   "metadata": {},
   "outputs": [],
   "source": [
    "#https://www.youtube.com/watch?v=qFJeN9V1ZsI"
   ]
  },
  {
   "cell_type": "code",
   "execution_count": 12,
   "metadata": {},
   "outputs": [],
   "source": [
    "import numpy as np\n",
    "import pandas as pd\n",
    "import matplotlib.pyplot as plt\n",
    "import seaborn as sns\n",
    "import random \n",
    "import tensorflow as tf\n",
    "from tensorflow import keras\n",
    "from tensorflow.keras.models import Sequential\n",
    "from tensorflow.keras.layers import Activation,Dense\n",
    "from tensorflow.keras.optimizers import Adam\n",
    "from tensorflow.keras.metrics import categorical_crossentropy\n",
    "from sklearn.utils import shuffle\n",
    "from sklearn.preprocessing import MinMaxScaler\n"
   ]
  },
  {
   "cell_type": "markdown",
   "metadata": {},
   "source": [
    "Data creation"
   ]
  },
  {
   "cell_type": "code",
   "execution_count": 2,
   "metadata": {},
   "outputs": [],
   "source": [
    "train_labels=[]\n",
    "train_samples=[]"
   ]
  },
  {
   "cell_type": "code",
   "execution_count": 6,
   "metadata": {},
   "outputs": [],
   "source": [
    "for i in range(50):\n",
    "    random_youth= random.randint(13,64)\n",
    "    train_samples.append(random_youth)\n",
    "    train_labels.append(1)\n",
    "\n",
    "    random_older=random.randint(65,100)\n",
    "    train_samples.append(random_older)\n",
    "    train_labels.append(0)\n",
    "\n",
    "for i in range(1000):\n",
    "    random_youth=random.randint(13,64)\n",
    "    train_samples.append(random_youth)\n",
    "    train_labels.append(0)\n",
    "\n",
    "    random_older=random.randint(65,100)\n",
    "    train_samples.append(random_older)\n",
    "    train_labels.append(1)"
   ]
  },
  {
   "cell_type": "code",
   "execution_count": 9,
   "metadata": {},
   "outputs": [],
   "source": [
    "train_labels= np.array(train_labels)\n",
    "train_samples = np.array(train_samples)\n",
    "train_labels,train_samples=shuffle(train_labels,train_samples)"
   ]
  },
  {
   "cell_type": "code",
   "execution_count": 10,
   "metadata": {},
   "outputs": [],
   "source": [
    "scaler=MinMaxScaler(feature_range=(0,1))\n",
    "scaled_train_data=scaler.fit_transform(train_samples.reshape(-1,1))"
   ]
  },
  {
   "cell_type": "code",
   "execution_count": 14,
   "metadata": {},
   "outputs": [
    {
     "name": "stdout",
     "output_type": "stream",
     "text": [
      "WARNING:tensorflow:From c:\\Users\\ACER\\anaconda3\\Lib\\site-packages\\keras\\src\\backend.py:873: The name tf.get_default_graph is deprecated. Please use tf.compat.v1.get_default_graph instead.\n",
      "\n"
     ]
    }
   ],
   "source": [
    "model=Sequential([\n",
    "    Dense(units=16,input_shape=(1,),activation=\"relu\"),\n",
    "    Dense(units=32,activation=\"relu\"),\n",
    "    Dense(units=2,activation=\"softmax\")\n",
    "])"
   ]
  },
  {
   "cell_type": "code",
   "execution_count": 15,
   "metadata": {},
   "outputs": [
    {
     "name": "stdout",
     "output_type": "stream",
     "text": [
      "Model: \"sequential\"\n",
      "_________________________________________________________________\n",
      " Layer (type)                Output Shape              Param #   \n",
      "=================================================================\n",
      " dense (Dense)               (None, 16)                32        \n",
      "                                                                 \n",
      " dense_1 (Dense)             (None, 32)                544       \n",
      "                                                                 \n",
      " dense_2 (Dense)             (None, 2)                 66        \n",
      "                                                                 \n",
      "=================================================================\n",
      "Total params: 642 (2.51 KB)\n",
      "Trainable params: 642 (2.51 KB)\n",
      "Non-trainable params: 0 (0.00 Byte)\n",
      "_________________________________________________________________\n"
     ]
    }
   ],
   "source": [
    "model.summary()"
   ]
  },
  {
   "cell_type": "code",
   "execution_count": 16,
   "metadata": {},
   "outputs": [],
   "source": [
    "model.compile(optimizer=Adam(learning_rate=0.0001),loss=\"sparse_categorical_crossentropy\",metrics=[\"accuracy\"])"
   ]
  },
  {
   "cell_type": "code",
   "execution_count": 17,
   "metadata": {},
   "outputs": [
    {
     "name": "stdout",
     "output_type": "stream",
     "text": [
      "Epoch 1/30\n",
      "WARNING:tensorflow:From c:\\Users\\ACER\\anaconda3\\Lib\\site-packages\\keras\\src\\utils\\tf_utils.py:492: The name tf.ragged.RaggedTensorValue is deprecated. Please use tf.compat.v1.ragged.RaggedTensorValue instead.\n",
      "\n",
      "WARNING:tensorflow:From c:\\Users\\ACER\\anaconda3\\Lib\\site-packages\\keras\\src\\engine\\base_layer_utils.py:384: The name tf.executing_eagerly_outside_functions is deprecated. Please use tf.compat.v1.executing_eagerly_outside_functions instead.\n",
      "\n",
      "210/210 - 7s - loss: 0.7092 - accuracy: 0.4629 - 7s/epoch - 35ms/step\n",
      "Epoch 2/30\n",
      "210/210 - 1s - loss: 0.6861 - accuracy: 0.5386 - 619ms/epoch - 3ms/step\n",
      "Epoch 3/30\n",
      "210/210 - 1s - loss: 0.6625 - accuracy: 0.6914 - 552ms/epoch - 3ms/step\n",
      "Epoch 4/30\n",
      "210/210 - 1s - loss: 0.6371 - accuracy: 0.7371 - 510ms/epoch - 2ms/step\n",
      "Epoch 5/30\n",
      "210/210 - 0s - loss: 0.6138 - accuracy: 0.7748 - 420ms/epoch - 2ms/step\n",
      "Epoch 6/30\n",
      "210/210 - 0s - loss: 0.5905 - accuracy: 0.7919 - 444ms/epoch - 2ms/step\n",
      "Epoch 7/30\n",
      "210/210 - 1s - loss: 0.5660 - accuracy: 0.8138 - 685ms/epoch - 3ms/step\n",
      "Epoch 8/30\n",
      "210/210 - 1s - loss: 0.5409 - accuracy: 0.8162 - 550ms/epoch - 3ms/step\n",
      "Epoch 9/30\n",
      "210/210 - 0s - loss: 0.5159 - accuracy: 0.8405 - 446ms/epoch - 2ms/step\n",
      "Epoch 10/30\n",
      "210/210 - 1s - loss: 0.4914 - accuracy: 0.8490 - 597ms/epoch - 3ms/step\n",
      "Epoch 11/30\n",
      "210/210 - 1s - loss: 0.4677 - accuracy: 0.8590 - 958ms/epoch - 5ms/step\n",
      "Epoch 12/30\n",
      "210/210 - 1s - loss: 0.4454 - accuracy: 0.8671 - 522ms/epoch - 2ms/step\n",
      "Epoch 13/30\n",
      "210/210 - 0s - loss: 0.4248 - accuracy: 0.8743 - 463ms/epoch - 2ms/step\n",
      "Epoch 14/30\n",
      "210/210 - 1s - loss: 0.4062 - accuracy: 0.8819 - 538ms/epoch - 3ms/step\n",
      "Epoch 15/30\n",
      "210/210 - 1s - loss: 0.3895 - accuracy: 0.8905 - 759ms/epoch - 4ms/step\n",
      "Epoch 16/30\n",
      "210/210 - 1s - loss: 0.3749 - accuracy: 0.8905 - 748ms/epoch - 4ms/step\n",
      "Epoch 17/30\n",
      "210/210 - 0s - loss: 0.3620 - accuracy: 0.9062 - 497ms/epoch - 2ms/step\n",
      "Epoch 18/30\n",
      "210/210 - 0s - loss: 0.3505 - accuracy: 0.9038 - 441ms/epoch - 2ms/step\n",
      "Epoch 19/30\n",
      "210/210 - 0s - loss: 0.3405 - accuracy: 0.9119 - 406ms/epoch - 2ms/step\n",
      "Epoch 20/30\n",
      "210/210 - 0s - loss: 0.3317 - accuracy: 0.9133 - 403ms/epoch - 2ms/step\n",
      "Epoch 21/30\n",
      "210/210 - 0s - loss: 0.3242 - accuracy: 0.9152 - 453ms/epoch - 2ms/step\n",
      "Epoch 22/30\n",
      "210/210 - 0s - loss: 0.3174 - accuracy: 0.9190 - 450ms/epoch - 2ms/step\n",
      "Epoch 23/30\n",
      "210/210 - 0s - loss: 0.3117 - accuracy: 0.9205 - 400ms/epoch - 2ms/step\n",
      "Epoch 24/30\n",
      "210/210 - 0s - loss: 0.3066 - accuracy: 0.9238 - 407ms/epoch - 2ms/step\n",
      "Epoch 25/30\n",
      "210/210 - 1s - loss: 0.3022 - accuracy: 0.9248 - 538ms/epoch - 3ms/step\n",
      "Epoch 26/30\n",
      "210/210 - 0s - loss: 0.2982 - accuracy: 0.9248 - 474ms/epoch - 2ms/step\n",
      "Epoch 27/30\n",
      "210/210 - 1s - loss: 0.2948 - accuracy: 0.9248 - 553ms/epoch - 3ms/step\n",
      "Epoch 28/30\n",
      "210/210 - 1s - loss: 0.2917 - accuracy: 0.9248 - 500ms/epoch - 2ms/step\n",
      "Epoch 29/30\n",
      "210/210 - 1s - loss: 0.2891 - accuracy: 0.9300 - 531ms/epoch - 3ms/step\n",
      "Epoch 30/30\n",
      "210/210 - 0s - loss: 0.2867 - accuracy: 0.9262 - 466ms/epoch - 2ms/step\n"
     ]
    },
    {
     "data": {
      "text/plain": [
       "<keras.src.callbacks.History at 0x2293b78b350>"
      ]
     },
     "execution_count": 17,
     "metadata": {},
     "output_type": "execute_result"
    }
   ],
   "source": [
    "model.fit(x=scaled_train_data,y=train_labels,batch_size=10,epochs=30,shuffle=True,verbose=2)"
   ]
  },
  {
   "cell_type": "code",
   "execution_count": null,
   "metadata": {},
   "outputs": [],
   "source": [
    "#32:23"
   ]
  }
 ],
 "metadata": {
  "kernelspec": {
   "display_name": "base",
   "language": "python",
   "name": "python3"
  },
  "language_info": {
   "codemirror_mode": {
    "name": "ipython",
    "version": 3
   },
   "file_extension": ".py",
   "mimetype": "text/x-python",
   "name": "python",
   "nbconvert_exporter": "python",
   "pygments_lexer": "ipython3",
   "version": "3.11.5"
  }
 },
 "nbformat": 4,
 "nbformat_minor": 2
}
